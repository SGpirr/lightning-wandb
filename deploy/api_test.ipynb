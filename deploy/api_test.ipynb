{
 "cells": [
  {
   "cell_type": "markdown",
   "id": "ffe33d8d-2160-4a20-ac47-249d95c2aae1",
   "metadata": {},
   "source": [
    "## 이미지 파일 api로 전달"
   ]
  },
  {
   "cell_type": "code",
   "execution_count": 4,
   "id": "b6236dc4-9d8a-4d44-9cc5-90e2cbf5e229",
   "metadata": {
    "execution": {
     "iopub.execute_input": "2023-05-31T03:18:04.017283Z",
     "iopub.status.busy": "2023-05-31T03:18:04.016286Z",
     "iopub.status.idle": "2023-05-31T03:18:04.020429Z",
     "shell.execute_reply": "2023-05-31T03:18:04.019872Z",
     "shell.execute_reply.started": "2023-05-31T03:18:04.017232Z"
    },
    "tags": []
   },
   "outputs": [],
   "source": [
    "import requests\n",
    "import json"
   ]
  },
  {
   "cell_type": "code",
   "execution_count": 5,
   "id": "daeb8a19-3914-4e60-8044-431b02c0a006",
   "metadata": {
    "execution": {
     "iopub.execute_input": "2023-05-31T03:18:04.466492Z",
     "iopub.status.busy": "2023-05-31T03:18:04.465692Z",
     "iopub.status.idle": "2023-05-31T03:18:04.480503Z",
     "shell.execute_reply": "2023-05-31T03:18:04.480087Z",
     "shell.execute_reply.started": "2023-05-31T03:18:04.466460Z"
    },
    "tags": []
   },
   "outputs": [
    {
     "data": {
      "text/plain": [
       "{'prediction': 0}"
      ]
     },
     "execution_count": 5,
     "metadata": {},
     "output_type": "execute_result"
    }
   ],
   "source": [
    "url = f\"http://0.0.0.0:8889/predict\"\n",
    "img_fn = 'sample_image/0.jpg'\n",
    "response = requests.post(url, files={\"file\": open(img_fn, \"rb\")})\n",
    "response.json()"
   ]
  },
  {
   "cell_type": "markdown",
   "id": "e29db488-2b0b-4562-b196-f2dad23c5a10",
   "metadata": {},
   "source": [
    "### PIL 이미지 전달"
   ]
  },
  {
   "cell_type": "code",
   "execution_count": 19,
   "id": "b9acb578-fb92-47ee-8553-e04d562439bc",
   "metadata": {
    "execution": {
     "iopub.execute_input": "2023-05-31T03:22:21.487536Z",
     "iopub.status.busy": "2023-05-31T03:22:21.487252Z",
     "iopub.status.idle": "2023-05-31T03:22:21.491787Z",
     "shell.execute_reply": "2023-05-31T03:22:21.491076Z",
     "shell.execute_reply.started": "2023-05-31T03:22:21.487517Z"
    },
    "tags": []
   },
   "outputs": [],
   "source": [
    "from torchvision.datasets import MNIST\n",
    "import random\n",
    "import io"
   ]
  },
  {
   "cell_type": "code",
   "execution_count": 27,
   "id": "7e0b57e7-af21-4634-b590-5af05f9ce841",
   "metadata": {
    "execution": {
     "iopub.execute_input": "2023-05-31T03:23:41.266459Z",
     "iopub.status.busy": "2023-05-31T03:23:41.266195Z",
     "iopub.status.idle": "2023-05-31T03:23:41.269866Z",
     "shell.execute_reply": "2023-05-31T03:23:41.269248Z",
     "shell.execute_reply.started": "2023-05-31T03:23:41.266441Z"
    },
    "tags": []
   },
   "outputs": [],
   "source": [
    "def img2bytesIO(pil_img):\n",
    "    op = io.BytesIO()\n",
    "    pil_img.save(op, format='JPEG')\n",
    "    op.seek(0)\n",
    "    return op"
   ]
  },
  {
   "cell_type": "code",
   "execution_count": 21,
   "id": "d6beca1c-6b31-4607-bcb2-91208aff7fc4",
   "metadata": {
    "execution": {
     "iopub.execute_input": "2023-05-31T03:22:29.495462Z",
     "iopub.status.busy": "2023-05-31T03:22:29.494933Z",
     "iopub.status.idle": "2023-05-31T03:22:29.505860Z",
     "shell.execute_reply": "2023-05-31T03:22:29.505338Z",
     "shell.execute_reply.started": "2023-05-31T03:22:29.495441Z"
    },
    "tags": []
   },
   "outputs": [],
   "source": [
    "# 테스트셋 로드\n",
    "mnist_test = MNIST('..', train=False)"
   ]
  },
  {
   "cell_type": "code",
   "execution_count": 29,
   "id": "4a26d353-d11e-41ea-a0d5-034b6b9c8a4d",
   "metadata": {
    "execution": {
     "iopub.execute_input": "2023-05-31T03:23:54.836407Z",
     "iopub.status.busy": "2023-05-31T03:23:54.835859Z",
     "iopub.status.idle": "2023-05-31T03:23:54.842775Z",
     "shell.execute_reply": "2023-05-31T03:23:54.841973Z",
     "shell.execute_reply.started": "2023-05-31T03:23:54.836383Z"
    },
    "tags": []
   },
   "outputs": [
    {
     "name": "stdout",
     "output_type": "stream",
     "text": [
      "ridx:3172\n",
      "label:4\n"
     ]
    },
    {
     "data": {
      "image/png": "[encoded data removed]",
      "text/plain": [
       "<PIL.Image.Image image mode=L size=28x28>"
      ]
     },
     "execution_count": 29,
     "metadata": {},
     "output_type": "execute_result"
    }
   ],
   "source": [
    "# 랜덤 샘플링\n",
    "ridx = random.randint(0, len(mnist_test))\n",
    "data = mnist_test[ridx]\n",
    "\n",
    "img, label = data\n",
    "print(f'ridx:{ridx}')\n",
    "print(f'label:{label}')\n",
    "img"
   ]
  },
  {
   "cell_type": "code",
   "execution_count": 30,
   "id": "41acaf28-90e8-4c3c-841d-7b0301a74175",
   "metadata": {
    "execution": {
     "iopub.execute_input": "2023-05-31T03:23:55.393749Z",
     "iopub.status.busy": "2023-05-31T03:23:55.392903Z",
     "iopub.status.idle": "2023-05-31T03:23:55.406562Z",
     "shell.execute_reply": "2023-05-31T03:23:55.405732Z",
     "shell.execute_reply.started": "2023-05-31T03:23:55.393724Z"
    },
    "tags": []
   },
   "outputs": [
    {
     "data": {
      "text/plain": [
       "{'prediction': 4}"
      ]
     },
     "execution_count": 30,
     "metadata": {},
     "output_type": "execute_result"
    }
   ],
   "source": [
    "response = requests.post(url, files={\"file\": img2bytesIO(img)})\n",
    "response.json()"
   ]
  }
 ],
 "metadata": {
  "kernelspec": {
   "display_name": "lightning-wandb",
   "language": "python",
   "name": "lightning-wandb"
  },
  "language_info": {
   "codemirror_mode": {
    "name": "ipython",
    "version": 3
   },
   "file_extension": ".py",
   "mimetype": "text/x-python",
   "name": "python",
   "nbconvert_exporter": "python",
   "pygments_lexer": "ipython3",
   "version": "3.9.16"
  }
 },
 "nbformat": 4,
 "nbformat_minor": 5
}
